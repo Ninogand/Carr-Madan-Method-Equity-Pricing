{
 "cells": [
  {
   "cell_type": "markdown",
   "metadata": {},
   "source": [
    "# Carr and Madan Approach for Option Pricing\n",
    "\n",
    "We model the asset $S(t)$ using a Merton Jump Diffusion model:\n",
    "$$\n",
    "dS(t) = S(t) \\left(\\mu\\, dt + \\sigma\\, dW(t) + (J - 1)\\, dN(t) \\right)\n",
    "$$\n",
    "\n",
    "The log-return process $ X(t) = \\ln S(t) $ is given by:\n",
    "$$\n",
    "dX(t) = \\left( \\mu - \\frac{\\sigma^2}{2} - \\epsilon_J \\left(e^{\\mu_J + \\frac{\\sigma_J^2}{2}} - 1 \\right) \\right) dt + \\sigma\\, dW(t) + \\ln(J)\\, dN(t)\n",
    "$$\n",
    "\n",
    "### Implementation\n",
    "- **Evaluation of the log-price characteristic function** under the risk-neutral measure.\n",
    "- **Use of the Fast Fourier Transform (FFT)** for evaluating the probability density function (PDF).\n",
    "- **Comparison of the obtained distribution** with a normal distribution having the same mean and variance.\n"
   ]
  },
  {
   "cell_type": "code",
   "execution_count": 7,
   "metadata": {},
   "outputs": [],
   "source": [
    "import numpy as np\n",
    "import math as mt\n",
    "import matplotlib.pyplot as plt\n",
    "from scipy.stats import norm\n",
    "from scipy.fft import fft, fftshift       "
   ]
  },
  {
   "cell_type": "code",
   "execution_count": 23,
   "metadata": {},
   "outputs": [],
   "source": [
    "#Put Option Parameters\n",
    "S0 = 100                            #Underlying asset \n",
    "K = np.array([50,100,150])          #Strike price\n",
    "r = 0.03                            #Risk_free rate\n",
    "q = 0                               #Dividend_yield\n",
    "T = 0.5                             #Maturity [half a year]\n",
    "\n",
    "#Merton Model Parameters\n",
    "sigma = 0.2353                      #GBM Volatility\n",
    "lam = 0.2017                        #Poisson coefficent\n",
    "mu_j = -0.2837                      #Mean value jump rate\n",
    "sigma_j = 0.1867                    #Volatility jump\n",
    "\n",
    "#Carr and Madan parameters\n",
    "alfa = np.array([-0.5,-1,-1.5,-2,-2.5])                         #Carr and Madan tuning for put option\n",
    "N = 2**12                                                       #Carr adn Madan parameter for integram approximation\n",
    "nu = 0.50                                                       #Carr adn Madan parameter for integram approximation\n",
    "l = 2*np.pi/(N*nu)                                              #Spacing of log-strike grid\n",
    "b = l*N/2                                                       #Boundary values for log-strike grid\n",
    "\n",
    "#Frequency grid\n",
    "u = nu * np.arange(N)   \n",
    "\n",
    "#Log-strike grid\n",
    "k = -b + (l * np.arange(N)) \n",
    "\n",
    "#Weight for numerical integration contributes\n",
    "nu_j = nu*np.ones(N)                #1 for hedge values\n",
    "nu_j[0] = 0.5*nu                    #.5 for hedge values\n",
    "nu_j[-1] = nu_j[0]                  #.5 for hedge values"
   ]
  },
  {
   "cell_type": "markdown",
   "metadata": {},
   "source": [
    "### Characteristic Function for the Log-Price Process\n",
    "\n",
    "Under the risk-neutral measure, the characteristic function for the log-price process $ X(t) = \\ln S(t) $ of an option can be expressed as:\n",
    "\n",
    "$$\n",
    "\\varphi(u) = \\mathbb{E}\\left[e^{iuX(T)}\\right] = \\exp\\left\\{ i u \\left( \\mu - \\frac{\\sigma^2}{2} - \\lambda\\left(e^{\\mu_J + \\frac{\\sigma_J^2}{2}} - 1\\right) \\right) T - \\frac{1}{2}\\sigma^2 u^2 T + \\lambda T \\left(e^{i u \\mu_J - \\frac{1}{2} u^2 \\sigma_J^2} - 1\\right) \\right\\}.\n",
    "$$\n",
    "\n",
    "In the Carr and Madan approach, a damped version of the characteristic function is used to price European options. This damped characteristic function is given by:\n",
    "\n",
    "$$\n",
    "\\psi(u) = \\frac{e^{-rT}\\, \\varphi\\left(u - (\\alpha+1)i\\right)}{\\alpha^2 + \\alpha - u^2 + i(2\\alpha+1) u},\n",
    "$$\n",
    "\n",
    "where:\n",
    "- $ r $ is the risk-free rate,\n",
    "- $ T $ is the time to maturity,\n",
    "- $ \\alpha $ is a damping factor,\n",
    "- $ \\varphi(u) $ is the characteristic function of $ S(T) $,\n",
    "- $ u $ is the Fourier transform variable.\n",
    "\n",
    "This formula, implemented in the `psi` function in the code, is crucial for efficiently computing option prices using the Fast Fourier Transform (FFT) in the Carr and Madan framework.\n"
   ]
  },
  {
   "cell_type": "code",
   "execution_count": 24,
   "metadata": {},
   "outputs": [],
   "source": [
    "#Characteristic function for general European option\n",
    "def psi(u, r, T, alfa, phi):\n",
    "    num = np.exp(-r * T) * phi(u - (alfa + 1) * 1j)\n",
    "    den = alfa**2 + alfa - u**2 + 1j * (2 * alfa + 1) * u\n",
    "    return num / den"
   ]
  },
  {
   "cell_type": "markdown",
   "metadata": {},
   "source": [
    "### Characteristic Function for the Asset Price $S(T)$ under the Merton Jump Diffusion Model\n",
    "\n",
    "The characteristic function of $S(T)$ in the Merton Jump Diffusion model is given by:\n",
    "\n",
    "$$\n",
    "\\varphi(u) = \\exp \\left( i u \\ln S_0 + i u \\left( r - q - \\frac{\\sigma^2}{2} - \\lambda \\left( e^{\\mu_J + \\frac{\\sigma_J^2}{2}} - 1 \\right) \\right) T - \\frac{1}{2} u^2 \\sigma^2 T + \\lambda T \\left( e^{i u \\mu_J - \\frac{1}{2} u^2 \\sigma_J^2} - 1 \\right) \\right)\n",
    "$$\n",
    "\n",
    "Where:\n",
    "- $ S_0 $: Initial asset price  \n",
    "- $ r $: Risk-free rate  \n",
    "- $ q $: Dividend yield  \n",
    "- $ \\sigma $: Volatility of the Brownian motion  \n",
    "- $ \\lambda $: Intensity of the Poisson process (jump frequency)  \n",
    "- $ \\mu_J $: Mean of the logarithm of the jump factor  \n",
    "- $ \\sigma_J $: Standard deviation of the logarithm of the jump factor  \n",
    "- $ T $: Time horizon  \n",
    "\n",
    "This characteristic function captures the probability distribution of the asset price $S(T)$, considering both the continuous Brownian motion and discrete Poisson jumps.\n",
    "\n"
   ]
  },
  {
   "cell_type": "code",
   "execution_count": 25,
   "metadata": {},
   "outputs": [],
   "source": [
    "#Characteristic function of Merton jump diffusion model \n",
    "def phi_merton(u):\n",
    "    global r,q,T,sigma,lam,mu_j,sigma_j \n",
    "\n",
    "    k = np.exp(mu_j + 0.5 * sigma_j**2) - 1\n",
    "    exponent = (1j * u * (r - q - 0.5 * sigma**2 - lam * k) * T \n",
    "               - 0.5 * u**2 * sigma**2 * T \n",
    "               + lam * T * (np.exp(1j * u * (mu_j - 0.5 * sigma_j**2) \n",
    "               - 0.5 * u**2 * sigma_j**2) - 1))\n",
    "    return np.exp(exponent)"
   ]
  },
  {
   "cell_type": "code",
   "execution_count": 26,
   "metadata": {},
   "outputs": [],
   "source": [
    "#Mean and Variance value of Merton Model\n",
    "k_ = np.exp(mu_j+0.5*sigma_j**2)-1\n",
    "mu_risk_neutral = (r-q-0.5*sigma**2-lam*k_)*T  \n",
    "var_risk_neutral = (sigma**2 + lam * (mu_j**2 + sigma_j**2)) * T\n",
    "\n",
    "x = k\n",
    "\n",
    "#PDF\n",
    "pdf_normal = norm.pdf(x, mu_risk_neutral, np.sqrt(var_risk_neutral))\n",
    "\n",
    "#merton_pdf = fftshift(np.abs(fft(phi_merton(u))))\n",
    "merton_pdf = np.fft.ifft(phi_merton(u)) * nu * N / (2 * np.pi)\n",
    "merton_pdf = np.real(np.fft.fftshift(merton_pdf))\n",
    "\n",
    "#merton_pdf = merton_pdf/max(merton_pdf)\n",
    "dx = x[1] - x[0]  # Assicurati che x sia la griglia corretta\n",
    "merton_pdf = merton_pdf / (np.sum(merton_pdf) * dx)"
   ]
  },
  {
   "cell_type": "code",
   "execution_count": 28,
   "metadata": {},
   "outputs": [
    {
     "data": {
      "image/png": "[encoded data removed]",
      "text/plain": [
       "<Figure size 1000x600 with 1 Axes>"
      ]
     },
     "metadata": {},
     "output_type": "display_data"
    }
   ],
   "source": [
    "# Plot\n",
    "plt.figure(figsize=(10, 6))\n",
    "plt.plot(x, merton_pdf, label='FFT', color='blue')\n",
    "plt.plot(x, pdf_normal, label='CDF', linestyle='--', color='red')\n",
    "plt.title(\"Densità Neutrale al Rischio del Log-Prezzo a Scadenza\")\n",
    "plt.xlabel(\"Log-Ritorno $X_T = \\ln(S_T/S_0)$\")\n",
    "plt.ylabel(\"Densità Normalizzata\")\n",
    "plt.xlim(-2, 2) \n",
    "plt.legend()\n",
    "plt.grid(True)\n",
    "plt.show()"
   ]
  },
  {
   "cell_type": "markdown",
   "metadata": {},
   "source": [
    "## Option Pricing with Fourier Integral and Fast Fourier Transform (FFT)\n",
    "\n",
    "This code prices options using the **Carr and Madan approach** by applying the **Fast Fourier Transform (FFT)** to efficiently compute the option prices.\n",
    "\n",
    "### Key Steps:\n",
    "\n",
    "1. **Fourier Integral Calculation:**\n",
    "   - The `psi` function computes the characteristic function of the log-price under the risk-neutral measure.\n",
    "   - For each value of $ u $, `psi_u` stores the result of the characteristic function applied to the Merton jump diffusion model (`phi_merton`).\n",
    "   - The integrand $ H $ is then computed as:\n",
    "\n",
    "$$\n",
    "H = \\psi_u \\cdot \\nu_j \\cdot e^{i b u}\n",
    "$$\n",
    "\n",
    "2. **Fast Fourier Transform (FFT):**\n",
    "   - The `fft` function applies the FFT to the integrand $ H $, producing the transformed values `hn`.\n",
    "   - Finally, the put option prices are extracted from the real part of the FFT result, properly scaled:\n",
    "\n",
    "$$\n",
    "\\text{put\\_prices} = \\frac{\\text{hn.real}}{\\pi} \\cdot e^{-\\alpha k} \\cdot e^{-r T}\n",
    "$$\n",
    "\n",
    "### Mathematical Explanation\n",
    "$$\n",
    "C(k) = e^{rT} \\frac{e^{-\\alpha k}}{\\pi} \\int_{0}^{+\\infty} e^{-iuk}\\psi(u) \\, du\n",
    "$$\n",
    "\n",
    "$$\n",
    "I(k) \\equiv \\int_{0}^{+\\infty} e^{-iuk}\\psi(u) \\, du \\approx \\sum_{j=0}^{N-1} e^{-iu_jk}\\psi(u_j) \\, w_j\n",
    "$$\n",
    "\n",
    "with:\n",
    "- $u_j = \\eta j$ (discretization step $\\eta$)\n",
    "- $w_j$ = Simpson weights\n",
    "\n",
    "$$\n",
    "H_j = e^{ibu_j} \\psi(u_j) w_j\n",
    "$$\n",
    "\n",
    "$$\n",
    "h_n = \\text{FFT}(H_j) = \\sum_{j=0}^{N-1} e^{-i2\\pi jn/N} H_j\n",
    "$$\n",
    "\n",
    "$$\n",
    "C(k_n) = \\frac{e^{-\\alpha k_n} e^{-rT}}{\\pi} \\, h_n\n",
    "$$\n",
    "\n",
    "$$\n",
    "C(k) = e^{rT} \\frac{e^{-\\alpha k}}{\\pi} \\underbrace{\\int_{0}^{+\\infty} e^{-iuk}\\psi(u) \\, du}_{\\text{Discretizzato}} \\Rightarrow C(k_n) = \\frac{e^{-\\alpha k_n} e^{-rT}}{\\pi} \\underbrace{\\text{FFT}\\left[e^{ibu_j}\\psi(u_j)w_j\\right]}_{h_n}\n",
    "$$\n",
    "\n",
    "This method efficiently computes option prices by leveraging FFT, making the evaluation of complex integrals faster and more accurate."
   ]
  },
  {
   "cell_type": "code",
   "execution_count": null,
   "metadata": {},
   "outputs": [],
   "source": [
    "#Option Pricing\n",
    "\n",
    "#Fourier Integral\n",
    "psi_u = []\n",
    "for i in u:\n",
    "    psi_u.append(psi(i, r, T, alfa, phi_merton))\n",
    "psi_u = np.array(psi_u)\n",
    "H = psi_u*nu_j*np.exp(1j*b*u)\n",
    "\n",
    "#Fast Fourier \n",
    "hn = fft(H)\n",
    "put_prices = (hn.real / (np.pi)) * np.exp(-alfa*k)*np.exp(-r*T)"
   ]
  },
  {
   "cell_type": "code",
   "execution_count": null,
   "metadata": {},
   "outputs": [],
   "source": [
    "#Strike grid \n",
    "K_log = np.log(K[:]/S0)\n",
    "indices = np.argmin(np.abs(k - K_log[:, None]), axis=1)\n",
    "print(\"Prezzi Put:\", S0*put_prices[indices])"
   ]
  },
  {
   "cell_type": "code",
   "execution_count": null,
   "metadata": {},
   "outputs": [],
   "source": [
    "K_space = np.arange(25,185,5)\n",
    "K_spacelog = np.log(K_space/S0)\n",
    "indices_space = np.argmin(np.abs(k - K_spacelog[:, None]), axis=1)\n",
    "strikes = K_space"
   ]
  },
  {
   "cell_type": "markdown",
   "metadata": {},
   "source": [
    "### Merton Jump Diffusion Option Pricing Code Explanation\n",
    "\n",
    "This Python code calculates **option prices** under the Merton Jump Diffusion model, which extends the Black-Scholes framework to account for asset price jumps."
   ]
  },
  {
   "cell_type": "code",
   "execution_count": null,
   "metadata": {},
   "outputs": [],
   "source": [
    "def d1(S,K,r,T,sigma):\n",
    "    return (np.log(S/K)+(r+sigma**2/2)*T)/(sigma*np.sqrt(T))\n",
    "def d2(S,K,r,T,sigma):\n",
    "    return (np.log(S/K)+(r-sigma**2/2)*T)/(sigma*np.sqrt(T))\n",
    "\n",
    "def black_scholes_price(S, K, r, T, sigma, flagCP):\n",
    "    # Standard Black-Scholes formula\n",
    "    if flagCP == 1:  # Call option\n",
    "        return S * norm.cdf(d1(S, K, r, T, sigma)) - K * np.exp(-r * T) * norm.cdf(d2(S, K, r, T, sigma))\n",
    "    elif flagCP == -1:  # Put option\n",
    "        return K * np.exp(-r * T) * norm.cdf(-d2(S, K, r, T, sigma)) - S * norm.cdf(-d1(S, K, r, T, sigma))\n",
    "    \n",
    "def merton_jump_diffusion(S0, K, r, T, sigma, lambd, muJ, sigmaJ, flagCP, N = 100):\n",
    "    # Merton Jump Diffusion Option Pricing\n",
    "    jump_price = 0.0\n",
    "    for n in range(N):\n",
    "        # Adjust rate for jumps\n",
    "        \n",
    "        r_n = r - lambd * (np.exp(muJ + 0.5 * sigmaJ ** 2) - 1) + n * muJ / T\n",
    "        sigma_n = np.sqrt(sigma ** 2 + n * sigmaJ ** 2 / T)\n",
    "        # Poisson probability\n",
    "        poisson_prob = np.exp(-lambd * T) * (lambd * T) ** n / mt.factorial(n)\n",
    "        # Add Black-Scholes price for n jumps\n",
    "        jump_price += poisson_prob * black_scholes_price(S0, K, r_n, T, sigma_n, flagCP)\n",
    "    return jump_price\n",
    "\n",
    "prezzo_mjd = []\n",
    "for K in strikes:\n",
    "    prezzo_mjd.append(merton_jump_diffusion(S0, K, r, T, sigma, lam, mu_j, sigma_j, flagCP=-1))\n",
    "\n",
    "prezzo_mjd = np.array(prezzo_mjd)"
   ]
  },
  {
   "cell_type": "code",
   "execution_count": null,
   "metadata": {},
   "outputs": [],
   "source": [
    "#Plot Put_price\n",
    "plt.figure(figsize=(10, 6))\n",
    "plt.plot(strikes, S0*put_prices[indices_space], label='Put_price Carr and Madan', color='blue')\n",
    "plt.plot(strikes, prezzo_mjd, label='Put_price B&S', color='red')\n",
    "plt.title(\"Put-price variability for Strikes\")\n",
    "plt.xlabel(\"Strikes\")\n",
    "plt.ylabel(\"Price\")\n",
    "plt.legend()\n",
    "plt.grid(True)\n",
    "plt.show()"
   ]
  }
 ],
 "metadata": {
  "kernelspec": {
   "display_name": "Python 3",
   "language": "python",
   "name": "python3"
  },
  "language_info": {
   "codemirror_mode": {
    "name": "ipython",
    "version": 3
   },
   "file_extension": ".py",
   "mimetype": "text/x-python",
   "name": "python",
   "nbconvert_exporter": "python",
   "pygments_lexer": "ipython3",
   "version": "3.11.4"
  }
 },
 "nbformat": 4,
 "nbformat_minor": 2
}
